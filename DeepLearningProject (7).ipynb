{
  "nbformat": 4,
  "nbformat_minor": 0,
  "metadata": {
    "colab": {
      "name": "DeepLearningProject.ipynb",
      "provenance": [],
      "collapsed_sections": []
    },
    "kernelspec": {
      "display_name": "Python 3",
      "name": "python3"
    },
    "accelerator": "GPU"
  },
  "cells": [
    {
      "cell_type": "markdown",
      "metadata": {
        "id": "S5yjVduBVnqz"
      },
      "source": [
        "# Prédiction des données MNIST avec uniquement 100 labels"
      ]
    },
    {
      "cell_type": "markdown",
      "metadata": {
        "id": "yarGtHh4Ztwe"
      },
      "source": [
        "# Importing Libraries"
      ]
    },
    {
      "cell_type": "code",
      "metadata": {
        "id": "ROiAJiaBU5BJ"
      },
      "source": [
        "import numpy as np\r\n",
        "import pandas as pd\r\n",
        "import tensorflow as tf\r\n",
        "import matplotlib.pyplot as plt\r\n",
        "import os"
      ],
      "execution_count": 2,
      "outputs": []
    },
    {
      "cell_type": "markdown",
      "metadata": {
        "id": "AoS6ukZTbb0t"
      },
      "source": [
        "## Loading the Dataset\r\n",
        "MNIST is a dataset of 60,000 28x28 grayscale images of the 10 digits, along with a test set of 10,000 images."
      ]
    },
    {
      "cell_type": "code",
      "metadata": {
        "colab": {
          "base_uri": "https://localhost:8080/"
        },
        "id": "nLemcINzaTwF",
        "outputId": "987c92d6-3de2-4919-f0fb-4eb8746f5815"
      },
      "source": [
        "from keras.datasets import mnist \r\n",
        "from keras import backend as K\r\n",
        "from collections import Counter\r\n",
        "(X_train_Original, Y_train_Original), (X_test_Original, Y_test_Original) = mnist.load_data()\r\n",
        "# Counting the number of every class\r\n",
        "EachClassSize = Counter(Y_train_Original.reshape(-1))"
      ],
      "execution_count": 3,
      "outputs": [
        {
          "output_type": "stream",
          "text": [
            "Downloading data from https://storage.googleapis.com/tensorflow/tf-keras-datasets/mnist.npz\n",
            "11493376/11490434 [==============================] - 0s 0us/step\n"
          ],
          "name": "stdout"
        }
      ]
    },
    {
      "cell_type": "code",
      "metadata": {
        "id": "zEkEzjqOnWIh"
      },
      "source": [
        ""
      ],
      "execution_count": 3,
      "outputs": []
    },
    {
      "cell_type": "code",
      "metadata": {
        "id": "gQvu-fGoOHU6"
      },
      "source": [
        "# from google.colab import drive\n",
        "# drive.mount('/content/drive')"
      ],
      "execution_count": 4,
      "outputs": []
    },
    {
      "cell_type": "code",
      "metadata": {
        "id": "jS3d773JEDeX"
      },
      "source": [
        "from keras.backend import clear_session\n",
        "clear_session()"
      ],
      "execution_count": 5,
      "outputs": []
    },
    {
      "cell_type": "code",
      "metadata": {
        "id": "wKLMPBb_3LxN"
      },
      "source": [
        "# Taking  100 Data with labels \n",
        "nber = 100 # number of labeled data\n",
        "labels = [key for (key,value) in EachClassSize.items()] # take only the key of the dictionary object\n",
        "idx100 = []\n",
        "for i in range(len(labels)):\n",
        "  idx = labels[i]==Y_train_Original\n",
        "  index = np.arange(0,len(Y_train_Original))[idx]\n",
        "  for j in range(10):\n",
        "    idx100.append(index[j])\n",
        " \n",
        "\n",
        "y_train100 = Y_train_Original[idx100]\n",
        "x_train100 = X_train_Original[idx100]\n",
        "x_train59900 = np.delete(X_train_Original,idx100,axis=0)"
      ],
      "execution_count": 6,
      "outputs": []
    },
    {
      "cell_type": "code",
      "metadata": {
        "id": "PNXyi1zKnbTk"
      },
      "source": [
        "EachClassSize_test_100 = Counter(y_train100.reshape(-1))"
      ],
      "execution_count": 7,
      "outputs": []
    },
    {
      "cell_type": "markdown",
      "metadata": {
        "id": "0XeFWuKQxSaa"
      },
      "source": [
        "# Part 1 - Self supervised Learning\r\n",
        "\r\n",
        "Self supervised learning consist: \r\n",
        "- to work on unlabeled data\r\n",
        "- Choose a pretexte task of classification\r\n",
        "- Train the RotNet to learn the pretexte task\r\n",
        "\r\n",
        "According to our article, the pretexte is to recognize the geometric transformation applied to an image that is given to the RotNet as input. \r\n",
        "the set of geometric transformations taken in the papers are all the image rotations by multiples of 90 degrees, i.e., 2d image rotations by\r\n",
        "0, 90, 180, and 270 degrees. \r\n",
        "\r\n",
        "So, the pseudo labels will be the rotations, i.e., 0 for \"0°\", 1 for \"90°\", 2 for \"180°\" and 3 for \"270°\".\r\n",
        "\r\n"
      ]
    },
    {
      "cell_type": "markdown",
      "metadata": {
        "id": "pR0hBqHK6xqa"
      },
      "source": [
        "## The rotation operator\r\n",
        "\r\n",
        "We define it as $Rot(X; d)$. It's an operator that rotates image $X$ by $d$ degrees. \r\n",
        "\r\n",
        "According to the article, In order to implement the image rotations by 90, 180, and 270 degrees (the 0 degrees case is the image itself), we use flip and transpose operations. Specifically \r\n",
        "- for 90 degrees rotation we first transpose the image and then flip it vertically (upside-down flip)\r\n",
        "- for 180 degrees rotation we flip the image first vertically and then horizontally (left-right flip), and finally \r\n",
        "- for 270 degrees rotation we first flip vertically the image and then we transpose it."
      ]
    },
    {
      "cell_type": "code",
      "metadata": {
        "id": "v4iHqgkPoWgY"
      },
      "source": [
        "def Rot(X, d):\r\n",
        "  if d == 0: # 0 degrees rotation\r\n",
        "      return X\r\n",
        "  elif d == 90: # 90 degrees rotation\r\n",
        "      return np.flipud(np.transpose(X))\r\n",
        "  elif d == 180: # 180 degrees rotation\r\n",
        "      return np.fliplr(np.flipud(X))\r\n",
        "  elif d == 270: # 270 degrees rotation / or -90\r\n",
        "      return np.transpose(np.flipud(X))\r\n",
        "  else:\r\n",
        "      raise ValueError('rotation should be 0, 90, 180, or 270 degrees')\r\n"
      ],
      "execution_count": 8,
      "outputs": []
    },
    {
      "cell_type": "markdown",
      "metadata": {
        "id": "5_eCauVb--8n"
      },
      "source": [
        "## Applying of the operator in the whole dataset \r\n",
        "We apply the foou rotation on each image on the dataset and labelled the image with the ype of rotation as define above\r\n"
      ]
    },
    {
      "cell_type": "code",
      "metadata": {
        "id": "QL-SIQhS_IQt"
      },
      "source": [
        "n = x_train59900.shape[0]\r\n",
        "RotX = np.zeros([4*n,28,28])# data obtained by rotation\r\n",
        "Roty = np.zeros(4*n)# our pseudo labels\r\n",
        "i=0\r\n",
        "j=0\r\n",
        "while i < 4*n:\r\n",
        "  if j < n:  \r\n",
        "    RotX[i] = Rot(x_train59900[j],  0)\r\n",
        "    RotX[i+1] = Rot(x_train59900[j],  90)\r\n",
        "    RotX[i+2] = Rot(x_train59900[j],  180)\r\n",
        "    RotX[i+3] = Rot(x_train59900[j],  270)\r\n",
        "    Roty[i:i+4] = np.array([0,1,2,3])\r\n",
        "    j = j + 1\r\n",
        "  i = i + 4"
      ],
      "execution_count": 9,
      "outputs": []
    },
    {
      "cell_type": "code",
      "metadata": {
        "id": "f0vfPcBB4Fey"
      },
      "source": [
        "n_test = X_test_Original.shape[0]\n",
        "RotX_test = np.zeros([4*n_test,28,28])# data obtained by rotation\n",
        "Roty_test = np.zeros(4*n_test)# our pseudo labels\n",
        "i=0\n",
        "j = 0\n",
        "while i < 4*n_test:\n",
        "  if j < n:\n",
        "    RotX_test[i] = Rot(X_test_Original[j],  0)\n",
        "    RotX_test[i+1] = Rot(X_test_Original[j],  90)\n",
        "    RotX_test[i+2] = Rot(X_test_Original[j],  180)\n",
        "    RotX_test[i+3] = Rot(X_test_Original[j],  270)\n",
        "    Roty_test[i:i+4] = np.array([0,1,2,3])\n",
        "    j = j + 1\n",
        "  i = i+ 4"
      ],
      "execution_count": 10,
      "outputs": []
    },
    {
      "cell_type": "code",
      "metadata": {
        "colab": {
          "base_uri": "https://localhost:8080/",
          "height": 380
        },
        "id": "th99jTImEWHg",
        "outputId": "6d734303-5a4f-415c-c7f0-e71d667d0421"
      },
      "source": [
        "# verification of the rotation\r\n",
        "\r\n",
        "import matplotlib.gridspec as gridspec\r\n",
        "def plot(samples):\r\n",
        "    fig = plt.figure(figsize=(15, 15))\r\n",
        "    gs = gridspec.GridSpec(4, 4)\r\n",
        "    gs.update(wspace=1, hspace=1)\r\n",
        "\r\n",
        "    for i, sample in enumerate(samples):\r\n",
        "        ax = plt.subplot(gs[i])\r\n",
        "        plt.axis('off')\r\n",
        "        ax.set_xticklabels([])\r\n",
        "        ax.set_yticklabels([])\r\n",
        "        ax.set_aspect('equal')\r\n",
        "        plt.imshow(sample.reshape(28, 28), cmap='Greys_r')\r\n",
        "    return\r\n",
        "\r\n",
        "plot(RotX_test[0:8])\r\n"
      ],
      "execution_count": 11,
      "outputs": [
        {
          "output_type": "display_data",
          "data": {
            "image/png": "[encoded data removed]",
            "text/plain": [
              "<Figure size 1080x1080 with 8 Axes>"
            ]
          },
          "metadata": {
            "tags": [],
            "needs_background": "light"
          }
        }
      ]
    },
    {
      "cell_type": "markdown",
      "metadata": {
        "id": "Qj-k30RSTPf_"
      },
      "source": [
        "## Data Preprocessing \r\n",
        "In order to avoid overfitting, we have to apply some transformations"
      ]
    },
    {
      "cell_type": "code",
      "metadata": {
        "id": "oSQffu1GIMEG"
      },
      "source": [
        "# Splitting data\r\n",
        "from sklearn.model_selection import train_test_split\r\n",
        "\r\n",
        "RotX_train, RotX_val, Roty_train, Roty_val = train_test_split(\r\n",
        "                                 RotX, Roty, \r\n",
        "                                 test_size = 0.2, random_state=12, \r\n",
        "                                 shuffle = True, stratify = Roty)"
      ],
      "execution_count": null,
      "outputs": []
    },
    {
      "cell_type": "code",
      "metadata": {
        "colab": {
          "base_uri": "https://localhost:8080/"
        },
        "id": "1OdCQ5X9QbO7",
        "outputId": "d505280b-4d0c-4742-cc97-734c6cd48bf5"
      },
      "source": [
        "Counter(list(Roty_train.reshape(-1)))\n"
      ],
      "execution_count": null,
      "outputs": [
        {
          "output_type": "execute_result",
          "data": {
            "text/plain": [
              "Counter({0.0: 47920, 1.0: 47920, 2.0: 47920, 3.0: 47920})"
            ]
          },
          "metadata": {
            "tags": []
          },
          "execution_count": 13
        }
      ]
    },
    {
      "cell_type": "markdown",
      "metadata": {
        "id": "j-qhdoNXRpdp"
      },
      "source": [
        "#### Convert class vectors to binary class matrices. (one-hot encoding)"
      ]
    },
    {
      "cell_type": "code",
      "metadata": {
        "id": "ChjvqiUPRudB"
      },
      "source": [
        "from keras.utils import to_categorical"
      ],
      "execution_count": null,
      "outputs": []
    },
    {
      "cell_type": "code",
      "metadata": {
        "id": "MweonkQeRH4D"
      },
      "source": [
        "num_classes = np.int64(Roty.max()) +1\n",
        "# Roty_val_before = Roty_val"
      ],
      "execution_count": null,
      "outputs": []
    },
    {
      "cell_type": "code",
      "metadata": {
        "id": "JbBhPKA1pbT4"
      },
      "source": [
        "RotX_train = RotX_train.astype('float32') \n",
        "RotX_train /= 255\n",
        "RotX_train = RotX_train.reshape(-1, 28,28,1)\n",
        "\n",
        "RotX_test = RotX_test.astype('float32') \n",
        "RotX_test /= 255\n",
        "RotX_test = RotX_test.reshape(-1, 28,28,1)\n",
        "\n",
        "RotX_val = RotX_val.astype('float32')\n",
        "RotX_val /= 255\n",
        "RotX_val = RotX_val.reshape(-1, 28,28,1)"
      ],
      "execution_count": null,
      "outputs": []
    },
    {
      "cell_type": "markdown",
      "metadata": {
        "id": "EYSAUq_sq18W"
      },
      "source": [
        "## Transform y in *categorial*"
      ]
    },
    {
      "cell_type": "code",
      "metadata": {
        "id": "OlqPeTv4Ru8k"
      },
      "source": [
        "Roty_train_before = Roty_train\n",
        "Roty_test_before = Roty_test\n",
        "Roty_val_before = Roty_val"
      ],
      "execution_count": null,
      "outputs": []
    },
    {
      "cell_type": "code",
      "metadata": {
        "id": "45dx7D-NQ8vs"
      },
      "source": [
        "Roty = to_categorical(Roty, num_classes)\n",
        "Roty_train = to_categorical(Roty_train, num_classes)\n",
        "Roty_val = to_categorical(Roty_val, num_classes)\n",
        "Roty_test = to_categorical(Roty_test, num_classes)"
      ],
      "execution_count": null,
      "outputs": []
    },
    {
      "cell_type": "markdown",
      "metadata": {
        "id": "kpKlBuYZlzE7"
      },
      "source": [
        "Conv Net"
      ]
    },
    {
      "cell_type": "code",
      "metadata": {
        "id": "FpfMUj-BluOh"
      },
      "source": [
        "from keras.models import Sequential\n",
        "from keras.layers import Input, Dense, BatchNormalization, Dropout, ReLU, Activation, Flatten,Conv2D, MaxPooling2D"
      ],
      "execution_count": null,
      "outputs": []
    },
    {
      "cell_type": "markdown",
      "metadata": {
        "id": "fPa0kJqj3UAW"
      },
      "source": [
        "## Building the CNN\r\n",
        "the CNN moedel trained to recognize rotations is called here RotNet"
      ]
    },
    {
      "cell_type": "code",
      "metadata": {
        "id": "b9qGJmmu3Y-t"
      },
      "source": [
        "from keras.layers import Input, Flatten, Dense, ReLU, Activation, BatchNormalization, GlobalAveragePooling2D, AveragePooling2D, Reshape\r\n",
        "from keras.models import Model,Sequential\r\n",
        "from keras.backend import clear_session\r\n",
        "clear_session()"
      ],
      "execution_count": null,
      "outputs": []
    },
    {
      "cell_type": "markdown",
      "metadata": {
        "id": "Nu8AYjNJ3xcd"
      },
      "source": [
        "## Modèle de base: **RotNet**"
      ]
    },
    {
      "cell_type": "markdown",
      "metadata": {
        "id": "CYKXnVwmrhVn"
      },
      "source": [
        "3 blocs de CNN.\n",
        " \n",
        "Chaque bloc a 3 conv2D"
      ]
    },
    {
      "cell_type": "code",
      "metadata": {
        "id": "LYdCgA54svk1"
      },
      "source": [
        "\n",
        "RotNet = Sequential()\n",
        "\n",
        "# Convolution\n",
        "\n",
        "#Block 1\n",
        "\n",
        "RotNet.add(Conv2D(filters = 192, kernel_size= 5, use_bias=False, padding='same', strides=(1, 1),input_shape=(28, 28,1)))\n",
        "RotNet.add(BatchNormalization())\n",
        "RotNet.add(Activation('relu'))\n",
        "\n",
        "RotNet.add(Conv2D(filters = 160, kernel_size= 1, use_bias=False, padding='same', strides=(1, 1)))\n",
        "RotNet.add(BatchNormalization())\n",
        "RotNet.add(Activation('relu'))\n",
        "# RotNet.add(BatchNormalization())\n",
        "\n",
        "RotNet.add(Conv2D(filters = 96, kernel_size= 1, use_bias=False, padding='same', strides=(1, 1)))\n",
        "RotNet.add(BatchNormalization())\n",
        "RotNet.add(Activation('relu'))\n",
        "# RotNet.add(BatchNormalization())\n",
        "\n",
        "RotNet.add(MaxPooling2D(pool_size = 3, padding='same', strides=(2,2)))\n",
        "\n",
        "\n",
        "# Bloc 2\n",
        "\n",
        "RotNet.add(Conv2D(filters = 192, kernel_size= 5, use_bias=False, padding='same', strides=(1, 1)))\n",
        "RotNet.add(BatchNormalization())\n",
        "RotNet.add(Activation('relu'))\n",
        "\n",
        "RotNet.add(Conv2D(filters = 192, kernel_size= 1, use_bias=False, padding='same', strides=(1, 1)))\n",
        "RotNet.add(BatchNormalization())\n",
        "RotNet.add(Activation('relu'))\n",
        "\n",
        "RotNet.add(Conv2D(filters = 192, kernel_size= 1, use_bias=False, padding='same', strides=(1, 1)))\n",
        "RotNet.add(BatchNormalization())\n",
        "RotNet.add(Activation('relu'))\n",
        "\n",
        "RotNet.add(AveragePooling2D(pool_size = 3, padding='same', strides=(2,2)))\n",
        "\n",
        "\n",
        "# Bloc 3\n",
        "\n",
        "RotNet.add(Conv2D(filters = 192, kernel_size= 3, use_bias=False, padding='same', strides=(1, 1)))\n",
        "RotNet.add(BatchNormalization())\n",
        "RotNet.add(Activation('relu'))\n",
        "\n",
        "RotNet.add(Conv2D(filters = 192, kernel_size= 1, use_bias=False, padding='same', strides=(1, 1)))\n",
        "RotNet.add(BatchNormalization())\n",
        "RotNet.add(Activation('relu'))\n",
        "\n",
        "RotNet.add(Conv2D(filters = 192, kernel_size= 1, use_bias=False, padding='same', strides=(1, 1)))\n",
        "RotNet.add(BatchNormalization())\n",
        "RotNet.add(Activation('relu'))\n",
        "\n",
        "\n",
        "\n",
        "RotNet.add(GlobalAveragePooling2D())\n",
        "\n",
        "\n",
        "RotNet.add(Dense(num_classes))\n",
        "RotNet.add(Activation('softmax'))"
      ],
      "execution_count": null,
      "outputs": []
    },
    {
      "cell_type": "code",
      "metadata": {
        "colab": {
          "base_uri": "https://localhost:8080/"
        },
        "id": "ptFIrabTHIzC",
        "outputId": "67504b82-951f-451a-fbb4-f3c0b75e01db"
      },
      "source": [
        "RotNet.summary()"
      ],
      "execution_count": null,
      "outputs": [
        {
          "output_type": "stream",
          "text": [
            "Model: \"sequential\"\n",
            "_________________________________________________________________\n",
            "Layer (type)                 Output Shape              Param #   \n",
            "=================================================================\n",
            "conv2d (Conv2D)              (None, 28, 28, 192)       4800      \n",
            "_________________________________________________________________\n",
            "batch_normalization (BatchNo (None, 28, 28, 192)       768       \n",
            "_________________________________________________________________\n",
            "activation (Activation)      (None, 28, 28, 192)       0         \n",
            "_________________________________________________________________\n",
            "conv2d_1 (Conv2D)            (None, 28, 28, 160)       30720     \n",
            "_________________________________________________________________\n",
            "batch_normalization_1 (Batch (None, 28, 28, 160)       640       \n",
            "_________________________________________________________________\n",
            "activation_1 (Activation)    (None, 28, 28, 160)       0         \n",
            "_________________________________________________________________\n",
            "conv2d_2 (Conv2D)            (None, 28, 28, 96)        15360     \n",
            "_________________________________________________________________\n",
            "batch_normalization_2 (Batch (None, 28, 28, 96)        384       \n",
            "_________________________________________________________________\n",
            "activation_2 (Activation)    (None, 28, 28, 96)        0         \n",
            "_________________________________________________________________\n",
            "max_pooling2d (MaxPooling2D) (None, 14, 14, 96)        0         \n",
            "_________________________________________________________________\n",
            "conv2d_3 (Conv2D)            (None, 14, 14, 192)       460800    \n",
            "_________________________________________________________________\n",
            "batch_normalization_3 (Batch (None, 14, 14, 192)       768       \n",
            "_________________________________________________________________\n",
            "activation_3 (Activation)    (None, 14, 14, 192)       0         \n",
            "_________________________________________________________________\n",
            "conv2d_4 (Conv2D)            (None, 14, 14, 192)       36864     \n",
            "_________________________________________________________________\n",
            "batch_normalization_4 (Batch (None, 14, 14, 192)       768       \n",
            "_________________________________________________________________\n",
            "activation_4 (Activation)    (None, 14, 14, 192)       0         \n",
            "_________________________________________________________________\n",
            "conv2d_5 (Conv2D)            (None, 14, 14, 192)       36864     \n",
            "_________________________________________________________________\n",
            "batch_normalization_5 (Batch (None, 14, 14, 192)       768       \n",
            "_________________________________________________________________\n",
            "activation_5 (Activation)    (None, 14, 14, 192)       0         \n",
            "_________________________________________________________________\n",
            "average_pooling2d (AveragePo (None, 7, 7, 192)         0         \n",
            "_________________________________________________________________\n",
            "conv2d_6 (Conv2D)            (None, 7, 7, 192)         331776    \n",
            "_________________________________________________________________\n",
            "batch_normalization_6 (Batch (None, 7, 7, 192)         768       \n",
            "_________________________________________________________________\n",
            "activation_6 (Activation)    (None, 7, 7, 192)         0         \n",
            "_________________________________________________________________\n",
            "conv2d_7 (Conv2D)            (None, 7, 7, 192)         36864     \n",
            "_________________________________________________________________\n",
            "batch_normalization_7 (Batch (None, 7, 7, 192)         768       \n",
            "_________________________________________________________________\n",
            "activation_7 (Activation)    (None, 7, 7, 192)         0         \n",
            "_________________________________________________________________\n",
            "conv2d_8 (Conv2D)            (None, 7, 7, 192)         36864     \n",
            "_________________________________________________________________\n",
            "batch_normalization_8 (Batch (None, 7, 7, 192)         768       \n",
            "_________________________________________________________________\n",
            "activation_8 (Activation)    (None, 7, 7, 192)         0         \n",
            "_________________________________________________________________\n",
            "global_average_pooling2d (Gl (None, 192)               0         \n",
            "_________________________________________________________________\n",
            "dense (Dense)                (None, 4)                 772       \n",
            "_________________________________________________________________\n",
            "activation_9 (Activation)    (None, 4)                 0         \n",
            "=================================================================\n",
            "Total params: 998,084\n",
            "Trainable params: 994,884\n",
            "Non-trainable params: 3,200\n",
            "_________________________________________________________________\n"
          ],
          "name": "stdout"
        }
      ]
    },
    {
      "cell_type": "markdown",
      "metadata": {
        "id": "Lai_0QZNHfLW"
      },
      "source": [
        "## Training the RotNet RotNet"
      ]
    },
    {
      "cell_type": "code",
      "metadata": {
        "id": "oFqYcbUBHJAo"
      },
      "source": [
        "from keras.optimizers import SGD"
      ],
      "execution_count": null,
      "outputs": []
    },
    {
      "cell_type": "markdown",
      "metadata": {
        "id": "uPRhkiyFr5hb"
      },
      "source": [
        "Optimizer"
      ]
    },
    {
      "cell_type": "code",
      "metadata": {
        "id": "EuEOW_DFHJNG"
      },
      "source": [
        "opt = SGD(learning_rate=0.1, momentum=0.9,  nesterov=True)"
      ],
      "execution_count": null,
      "outputs": []
    },
    {
      "cell_type": "code",
      "metadata": {
        "id": "xd5Eyx1d-HxK"
      },
      "source": [
        "#Define the optimizer, the loss function and the metrics\r\n",
        "RotNet.compile(loss='categorical_crossentropy', optimizer = opt, metrics=[\"accuracy\"])"
      ],
      "execution_count": null,
      "outputs": []
    },
    {
      "cell_type": "markdown",
      "metadata": {
        "id": "ereXrr02r_eT"
      },
      "source": [
        "On fit le réseau sur les données"
      ]
    },
    {
      "cell_type": "code",
      "metadata": {
        "colab": {
          "base_uri": "https://localhost:8080/"
        },
        "id": "jZVf5xrS-fBk",
        "outputId": "e7887fbb-891e-4b44-e5e8-6ee6e558fc4f"
      },
      "source": [
        "# Démarrage de l'entrainement du réseau\r\n",
        "hist = RotNet.fit(RotX_train, Roty_train, \r\n",
        "            batch_size=128,\r\n",
        "            epochs=20,\r\n",
        "            shuffle=True,                       # verbosité\r\n",
        "            verbose = 1,\r\n",
        "            validation_data=(RotX_val, Roty_val))   # données de validation (X(données) et y(labels))   "
      ],
      "execution_count": null,
      "outputs": [
        {
          "output_type": "stream",
          "text": [
            "Epoch 1/20\n",
            "  25/1498 [..............................] - ETA: 1:23:48 - loss: 0.8890 - accuracy: 0.5799"
          ],
          "name": "stdout"
        }
      ]
    },
    {
      "cell_type": "markdown",
      "metadata": {
        "id": "WNAuOCPqsHGx"
      },
      "source": [
        "On trace la courbe d'apprentissage du réseau"
      ]
    },
    {
      "cell_type": "code",
      "metadata": {
        "colab": {
          "base_uri": "https://localhost:8080/",
          "height": 313
        },
        "id": "fHMt_jRiJfxd",
        "outputId": "71c88c04-c234-4371-9954-4475e7dd60a6"
      },
      "source": [
        "plt.plot(hist.history['accuracy'], label='training set',marker='o', linestyle='solid',linewidth=1, markersize=6)\n",
        "plt.plot(hist.history['val_accuracy'], label='validation set',marker='o', linestyle='solid',linewidth=1, markersize=6)\n",
        "plt.title(\"CNN-model accuracy\")\n",
        "plt.xlabel('#Epochs')\n",
        "plt.ylabel('Acuracy')\n",
        "plt.legend(bbox_to_anchor=( 1., 1.))"
      ],
      "execution_count": null,
      "outputs": [
        {
          "output_type": "execute_result",
          "data": {
            "text/plain": [
              "<matplotlib.legend.Legend at 0x7f7e2ea9fba8>"
            ]
          },
          "metadata": {
            "tags": []
          },
          "execution_count": 28
        },
        {
          "output_type": "display_data",
          "data": {
            "image/png": "[encoded data removed]",
            "text/plain": [
              "<Figure size 432x288 with 1 Axes>"
            ]
          },
          "metadata": {
            "tags": [],
            "needs_background": "light"
          }
        }
      ]
    },
    {
      "cell_type": "markdown",
      "metadata": {
        "id": "UqQ6dP57sL2M"
      },
      "source": [
        "On trace la courbe de sa fonction de perte"
      ]
    },
    {
      "cell_type": "code",
      "metadata": {
        "colab": {
          "base_uri": "https://localhost:8080/",
          "height": 313
        },
        "id": "tcbidPo4Pgxj",
        "outputId": "dfc14f3a-392e-4ac0-a71f-b8d1508de03b"
      },
      "source": [
        "plt.plot(hist.history['loss'], label='training set',marker='o', linestyle='solid',linewidth=1, markersize=6)\n",
        "plt.plot(hist.history['val_loss'], label='validation set',marker='o', linestyle='solid',linewidth=1, markersize=6)\n",
        "plt.title(\"CNN-model loss\")\n",
        "plt.xlabel('#Epochs')\n",
        "plt.ylabel('Loss')\n",
        "plt.legend(bbox_to_anchor=( 1., 1.))"
      ],
      "execution_count": null,
      "outputs": [
        {
          "output_type": "execute_result",
          "data": {
            "text/plain": [
              "<matplotlib.legend.Legend at 0x7f7e2ebd1940>"
            ]
          },
          "metadata": {
            "tags": []
          },
          "execution_count": 29
        },
        {
          "output_type": "display_data",
          "data": {
            "image/png": "[encoded data removed]",
            "text/plain": [
              "<Figure size 432x288 with 1 Axes>"
            ]
          },
          "metadata": {
            "tags": [],
            "needs_background": "light"
          }
        }
      ]
    },
    {
      "cell_type": "code",
      "metadata": {
        "colab": {
          "base_uri": "https://localhost:8080/"
        },
        "id": "iws4NDP1S8Lu",
        "outputId": "c840d0d3-0885-420e-e4c7-043ede302752"
      },
      "source": [
        "LABELS = {\n",
        "    0 : \"0°\", \n",
        "    1 : \"90°\", \n",
        "    2 : \"180°\", \n",
        "    3 : \"270°\", \n",
        "}\n",
        "list(LABELS.items())"
      ],
      "execution_count": null,
      "outputs": [
        {
          "output_type": "execute_result",
          "data": {
            "text/plain": [
              "[(0, '0°'), (1, '90°'), (2, '180°'), (3, '270°')]"
            ]
          },
          "metadata": {
            "tags": []
          },
          "execution_count": 31
        }
      ]
    },
    {
      "cell_type": "markdown",
      "metadata": {
        "id": "quVa6OSxQ3Of"
      },
      "source": [
        "# Test sur les données de validations"
      ]
    },
    {
      "cell_type": "code",
      "metadata": {
        "id": "aPVO8-CdYgJr"
      },
      "source": [
        "from sklearn.metrics import confusion_matrix,classification_report\n",
        "y_pred = RotNet.predict(RotX_val)\n",
        "y_pred = np.argmax(y_pred, axis=1)\n",
        "# y_true = Roty_test\n",
        "\n"
      ],
      "execution_count": null,
      "outputs": []
    },
    {
      "cell_type": "code",
      "metadata": {
        "id": "mRH8wcdSjkL7"
      },
      "source": [
        "y_true = Roty_val_before.reshape(y_pred.shape)"
      ],
      "execution_count": null,
      "outputs": []
    },
    {
      "cell_type": "code",
      "metadata": {
        "colab": {
          "base_uri": "https://localhost:8080/"
        },
        "id": "TkYdNR0NxUMT",
        "outputId": "7e602383-2c6d-4bb4-870d-feea0d925ecd"
      },
      "source": [
        "from sklearn.metrics import accuracy_score\n",
        "accuracy_score(y_true=y_true,y_pred=y_pred)"
      ],
      "execution_count": null,
      "outputs": [
        {
          "output_type": "execute_result",
          "data": {
            "text/plain": [
              "0.9956176961602671"
            ]
          },
          "metadata": {
            "tags": []
          },
          "execution_count": 35
        }
      ]
    },
    {
      "cell_type": "markdown",
      "metadata": {
        "id": "NGQLn91rsbmh"
      },
      "source": [
        "On fait une visualisation des prédictions des rotations sur les données de validation.\n",
        "\n",
        "Si elle prédit mal on met une croix rouge sur l'image prédite\n",
        "\n",
        "---\n",
        "\n"
      ]
    },
    {
      "cell_type": "code",
      "metadata": {
        "colab": {
          "base_uri": "https://localhost:8080/",
          "height": 682
        },
        "id": "VCSDtmC0Tx9H",
        "outputId": "f0ef8788-a096-476f-96ce-3df8f07c9a87"
      },
      "source": [
        "# Sample test data\n",
        "ix = np.random.randint(0, 10000, size=36)\n",
        "ex_im = RotX_val[ix]\n",
        "ex_lb = Roty_val[ix]\n",
        "print(RotX_val.shape)\n",
        "# Predict\n",
        "out = RotNet.predict(ex_im) #RotNet\n",
        "classes = np.argmax(out, axis=1)  # softmax output -> class\n",
        "\n",
        "# Plot\n",
        "fig, axes = plt.subplots(6, 6, figsize=(10, 10), sharey=True, sharex=True);\n",
        "fig.suptitle(r'$\\rightarrow$ CNN predicted (actual) $\\leftarrow$')\n",
        "\n",
        "k = 0\n",
        "for i in range(6):\n",
        "    for j in range(6):\n",
        "        # Switch Axes\n",
        "        ax = axes[i, j]\n",
        "        \n",
        "        # Show image\n",
        "        ax.imshow(ex_im[k].reshape(28, 28), cmap='Greys_r');\n",
        "        \n",
        "        # Determine labels\n",
        "        actual_lab = LABELS[np.argmax(ex_lb[k])]\n",
        "        pred_lab = LABELS[classes[k]]\n",
        "        \n",
        "        # Format title\n",
        "        title = \"{} ({})\".format(pred_lab, actual_lab)\n",
        "        title_color = 'black'\n",
        "        \n",
        "        # Mark image if wrong prediction\n",
        "        if actual_lab != pred_lab:\n",
        "            ax.plot(np.array([0, 32]), np.array([0, 32]), 'r-')\n",
        "            ax.plot(np.array([0, 32]), np.array([32, 0]), 'r-')\n",
        "            title_color = 'red'\n",
        "\n",
        "        # Set title\n",
        "        ax.set_title(title, color=title_color);\n",
        "        \n",
        "        # Set limits\n",
        "        ax.set_xlim(32, 0)\n",
        "        ax.set_ylim(32, 0)\n",
        "            \n",
        "        k += 1"
      ],
      "execution_count": null,
      "outputs": [
        {
          "output_type": "stream",
          "text": [
            "(47920, 28, 28, 1)\n"
          ],
          "name": "stdout"
        },
        {
          "output_type": "display_data",
          "data": {
            "image/png": "[encoded data removed]",
            "text/plain": [
              "<Figure size 720x720 with 36 Axes>"
            ]
          },
          "metadata": {
            "tags": [],
            "needs_background": "light"
          }
        }
      ]
    },
    {
      "cell_type": "markdown",
      "metadata": {
        "id": "SLvQEZ5MQ_tK"
      },
      "source": [
        "# Test sur les données test\n",
        "\n"
      ]
    },
    {
      "cell_type": "code",
      "metadata": {
        "id": "baZF7xQvThFj"
      },
      "source": [
        "from sklearn.metrics import confusion_matrix,classification_report\n",
        "y_pred = RotNet.predict(RotX_test)\n",
        "y_pred = np.argmax(y_pred, axis=1)\n"
      ],
      "execution_count": null,
      "outputs": []
    },
    {
      "cell_type": "code",
      "metadata": {
        "id": "WQNFs5LmThFk"
      },
      "source": [
        "y_true = Roty_test_before.reshape(y_pred.shape)"
      ],
      "execution_count": null,
      "outputs": []
    },
    {
      "cell_type": "code",
      "metadata": {
        "colab": {
          "base_uri": "https://localhost:8080/"
        },
        "id": "W9StzQyPThFl",
        "outputId": "39b702d5-52fe-4ed4-d3a1-d36d09c8001e"
      },
      "source": [
        "from sklearn.metrics import accuracy_score\n",
        "accuracy_score(y_true=y_true,y_pred=y_pred)"
      ],
      "execution_count": null,
      "outputs": [
        {
          "output_type": "execute_result",
          "data": {
            "text/plain": [
              "0.9948"
            ]
          },
          "metadata": {
            "tags": []
          },
          "execution_count": 41
        }
      ]
    },
    {
      "cell_type": "markdown",
      "metadata": {
        "id": "Fm_U0CB9s80i"
      },
      "source": [
        "On fait une visualisation des prédictions des rotations sur les données de test.\n",
        "\n",
        "Si elle prédit mal on met une croix rouge sur l'image prédite\n"
      ]
    },
    {
      "cell_type": "code",
      "metadata": {
        "id": "UzQfYX0ZUavb"
      },
      "source": [
        "# Sample test data\n",
        "nb_data = 8\n",
        "ix = np.random.randint(0, 10000, size=nb_data*nb_data)\n",
        "ex_im = RotX_test[ix]\n",
        "ex_lb = Roty_test[ix]\n",
        "print(RotX_val.shape)\n",
        "# Predict\n",
        "out = RotNet.predict(ex_im) #RotNet\n",
        "classes = np.argmax(out, axis=1)  # softmax output -> class\n",
        "\n",
        "# Plot\n",
        "fig, axes = plt.subplots(nb_data, nb_data, figsize=(10, 10), sharey=True, sharex=True);\n",
        "fig.suptitle(r'$\\rightarrow$ CNN predicted (actual) $\\leftarrow$')\n",
        "\n",
        "k = 0\n",
        "for i in range(nb_data):\n",
        "    for j in range(nb_data):\n",
        "        # Switch Axes\n",
        "        ax = axes[i, j]\n",
        "        \n",
        "        # Show image\n",
        "        ax.imshow(ex_im[k].reshape(28, 28), cmap='Greys_r');\n",
        "        \n",
        "        # Determine labels\n",
        "        actual_lab = LABELS[np.argmax(ex_lb[k])]\n",
        "        pred_lab = LABELS[classes[k]]\n",
        "        \n",
        "        # Format title\n",
        "        title = \"{} ({})\".format(pred_lab, actual_lab)\n",
        "        title_color = 'black'\n",
        "        \n",
        "        # Mark image if wrong prediction\n",
        "        if actual_lab != pred_lab:\n",
        "            ax.plot(np.array([0, 32]), np.array([0, 32]), 'r-')\n",
        "            ax.plot(np.array([0, 32]), np.array([32, 0]), 'r-')\n",
        "            title_color = 'red'\n",
        "\n",
        "        # Set title\n",
        "        ax.set_title(title, color=title_color);\n",
        "        \n",
        "        # Set limits\n",
        "        ax.set_xlim(32, 0)\n",
        "        ax.set_ylim(32, 0)\n",
        "            \n",
        "        k += 1"
      ],
      "execution_count": null,
      "outputs": []
    },
    {
      "cell_type": "code",
      "metadata": {
        "id": "wWtOmyWVJvtB"
      },
      "source": [
        "scores = RotNet.evaluate(RotX_test, Roty_test, batch_size=128)"
      ],
      "execution_count": null,
      "outputs": []
    },
    {
      "cell_type": "code",
      "metadata": {
        "colab": {
          "base_uri": "https://localhost:8080/"
        },
        "id": "L6z5uDluYblO",
        "outputId": "6f6fb873-4890-4605-aef4-ba87d78c41b7"
      },
      "source": [
        "scores"
      ],
      "execution_count": null,
      "outputs": [
        {
          "output_type": "execute_result",
          "data": {
            "text/plain": [
              "[0.015339497476816177, 0.9947999715805054]"
            ]
          },
          "metadata": {
            "tags": []
          },
          "execution_count": 44
        }
      ]
    },
    {
      "cell_type": "markdown",
      "metadata": {
        "id": "wPi7dqQRml7B"
      },
      "source": [
        "# Géler certaines parties"
      ]
    },
    {
      "cell_type": "markdown",
      "metadata": {
        "id": "KEVFkBOFUvYm"
      },
      "source": [
        "On fait une copie du modèle créé en haut"
      ]
    },
    {
      "cell_type": "code",
      "metadata": {
        "id": "w5m_W-V165Hn"
      },
      "source": [
        "model_frozen = RotNet\n"
      ],
      "execution_count": null,
      "outputs": []
    },
    {
      "cell_type": "code",
      "metadata": {
        "colab": {
          "base_uri": "https://localhost:8080/"
        },
        "id": "F3BGnL53yuQh",
        "outputId": "9af81509-4222-4419-e732-79f4f5571d97"
      },
      "source": [
        "model_frozen.summary()"
      ],
      "execution_count": null,
      "outputs": [
        {
          "output_type": "stream",
          "text": [
            "Model: \"sequential\"\n",
            "_________________________________________________________________\n",
            "Layer (type)                 Output Shape              Param #   \n",
            "=================================================================\n",
            "conv2d (Conv2D)              (None, 28, 28, 192)       4800      \n",
            "_________________________________________________________________\n",
            "batch_normalization (BatchNo (None, 28, 28, 192)       768       \n",
            "_________________________________________________________________\n",
            "activation (Activation)      (None, 28, 28, 192)       0         \n",
            "_________________________________________________________________\n",
            "conv2d_1 (Conv2D)            (None, 28, 28, 160)       30720     \n",
            "_________________________________________________________________\n",
            "batch_normalization_1 (Batch (None, 28, 28, 160)       640       \n",
            "_________________________________________________________________\n",
            "activation_1 (Activation)    (None, 28, 28, 160)       0         \n",
            "_________________________________________________________________\n",
            "conv2d_2 (Conv2D)            (None, 28, 28, 96)        15360     \n",
            "_________________________________________________________________\n",
            "batch_normalization_2 (Batch (None, 28, 28, 96)        384       \n",
            "_________________________________________________________________\n",
            "activation_2 (Activation)    (None, 28, 28, 96)        0         \n",
            "_________________________________________________________________\n",
            "max_pooling2d (MaxPooling2D) (None, 14, 14, 96)        0         \n",
            "_________________________________________________________________\n",
            "conv2d_3 (Conv2D)            (None, 14, 14, 192)       460800    \n",
            "_________________________________________________________________\n",
            "batch_normalization_3 (Batch (None, 14, 14, 192)       768       \n",
            "_________________________________________________________________\n",
            "activation_3 (Activation)    (None, 14, 14, 192)       0         \n",
            "_________________________________________________________________\n",
            "conv2d_4 (Conv2D)            (None, 14, 14, 192)       36864     \n",
            "_________________________________________________________________\n",
            "batch_normalization_4 (Batch (None, 14, 14, 192)       768       \n",
            "_________________________________________________________________\n",
            "activation_4 (Activation)    (None, 14, 14, 192)       0         \n",
            "_________________________________________________________________\n",
            "conv2d_5 (Conv2D)            (None, 14, 14, 192)       36864     \n",
            "_________________________________________________________________\n",
            "batch_normalization_5 (Batch (None, 14, 14, 192)       768       \n",
            "_________________________________________________________________\n",
            "activation_5 (Activation)    (None, 14, 14, 192)       0         \n",
            "_________________________________________________________________\n",
            "average_pooling2d (AveragePo (None, 7, 7, 192)         0         \n",
            "_________________________________________________________________\n",
            "conv2d_6 (Conv2D)            (None, 7, 7, 192)         331776    \n",
            "_________________________________________________________________\n",
            "batch_normalization_6 (Batch (None, 7, 7, 192)         768       \n",
            "_________________________________________________________________\n",
            "activation_6 (Activation)    (None, 7, 7, 192)         0         \n",
            "_________________________________________________________________\n",
            "conv2d_7 (Conv2D)            (None, 7, 7, 192)         36864     \n",
            "_________________________________________________________________\n",
            "batch_normalization_7 (Batch (None, 7, 7, 192)         768       \n",
            "_________________________________________________________________\n",
            "activation_7 (Activation)    (None, 7, 7, 192)         0         \n",
            "_________________________________________________________________\n",
            "conv2d_8 (Conv2D)            (None, 7, 7, 192)         36864     \n",
            "_________________________________________________________________\n",
            "batch_normalization_8 (Batch (None, 7, 7, 192)         768       \n",
            "_________________________________________________________________\n",
            "activation_8 (Activation)    (None, 7, 7, 192)         0         \n",
            "_________________________________________________________________\n",
            "global_average_pooling2d (Gl (None, 192)               0         \n",
            "_________________________________________________________________\n",
            "dense (Dense)                (None, 4)                 772       \n",
            "_________________________________________________________________\n",
            "activation_9 (Activation)    (None, 4)                 0         \n",
            "=================================================================\n",
            "Total params: 998,084\n",
            "Trainable params: 994,884\n",
            "Non-trainable params: 3,200\n",
            "_________________________________________________________________\n"
          ],
          "name": "stdout"
        }
      ]
    },
    {
      "cell_type": "markdown",
      "metadata": {
        "id": "vAaSGlALtIId"
      },
      "source": [
        "# Gèle des layers"
      ]
    },
    {
      "cell_type": "markdown",
      "metadata": {
        "id": "6ya9F1HOUa9a"
      },
      "source": [
        "Les deux premiers blocs sont gélés\n",
        "\n",
        "Les poids reste modifiable à partir du dernier et troisième bloc.\n",
        "\n",
        "Les vingt premières couches correspondent au deux premiers blocs de notre modèle de base"
      ]
    },
    {
      "cell_type": "code",
      "metadata": {
        "id": "zgttUM6USpNs"
      },
      "source": [
        "for layer in model_frozen.layers[:20]:\n",
        "    layer.trainable=False\n",
        "    \n",
        "for layer in model_frozen.layers[20:]:\n",
        "    layer.trainable=True"
      ],
      "execution_count": null,
      "outputs": []
    },
    {
      "cell_type": "code",
      "metadata": {
        "id": "lMtybrSkfkdD"
      },
      "source": [
        "num_classes2 = np.int64(y_train100.max()) +1"
      ],
      "execution_count": null,
      "outputs": []
    },
    {
      "cell_type": "code",
      "metadata": {
        "colab": {
          "base_uri": "https://localhost:8080/"
        },
        "id": "9rl-0IcKzVIg",
        "outputId": "1064e2ef-524d-44f0-c470-ee015c941927"
      },
      "source": [
        "model_frozen.summary()"
      ],
      "execution_count": null,
      "outputs": [
        {
          "output_type": "stream",
          "text": [
            "Model: \"sequential\"\n",
            "_________________________________________________________________\n",
            "Layer (type)                 Output Shape              Param #   \n",
            "=================================================================\n",
            "conv2d (Conv2D)              (None, 28, 28, 192)       4800      \n",
            "_________________________________________________________________\n",
            "batch_normalization (BatchNo (None, 28, 28, 192)       768       \n",
            "_________________________________________________________________\n",
            "activation (Activation)      (None, 28, 28, 192)       0         \n",
            "_________________________________________________________________\n",
            "conv2d_1 (Conv2D)            (None, 28, 28, 160)       30720     \n",
            "_________________________________________________________________\n",
            "batch_normalization_1 (Batch (None, 28, 28, 160)       640       \n",
            "_________________________________________________________________\n",
            "activation_1 (Activation)    (None, 28, 28, 160)       0         \n",
            "_________________________________________________________________\n",
            "conv2d_2 (Conv2D)            (None, 28, 28, 96)        15360     \n",
            "_________________________________________________________________\n",
            "batch_normalization_2 (Batch (None, 28, 28, 96)        384       \n",
            "_________________________________________________________________\n",
            "activation_2 (Activation)    (None, 28, 28, 96)        0         \n",
            "_________________________________________________________________\n",
            "max_pooling2d (MaxPooling2D) (None, 14, 14, 96)        0         \n",
            "_________________________________________________________________\n",
            "conv2d_3 (Conv2D)            (None, 14, 14, 192)       460800    \n",
            "_________________________________________________________________\n",
            "batch_normalization_3 (Batch (None, 14, 14, 192)       768       \n",
            "_________________________________________________________________\n",
            "activation_3 (Activation)    (None, 14, 14, 192)       0         \n",
            "_________________________________________________________________\n",
            "conv2d_4 (Conv2D)            (None, 14, 14, 192)       36864     \n",
            "_________________________________________________________________\n",
            "batch_normalization_4 (Batch (None, 14, 14, 192)       768       \n",
            "_________________________________________________________________\n",
            "activation_4 (Activation)    (None, 14, 14, 192)       0         \n",
            "_________________________________________________________________\n",
            "conv2d_5 (Conv2D)            (None, 14, 14, 192)       36864     \n",
            "_________________________________________________________________\n",
            "batch_normalization_5 (Batch (None, 14, 14, 192)       768       \n",
            "_________________________________________________________________\n",
            "activation_5 (Activation)    (None, 14, 14, 192)       0         \n",
            "_________________________________________________________________\n",
            "average_pooling2d (AveragePo (None, 7, 7, 192)         0         \n",
            "_________________________________________________________________\n",
            "conv2d_6 (Conv2D)            (None, 7, 7, 192)         331776    \n",
            "_________________________________________________________________\n",
            "batch_normalization_6 (Batch (None, 7, 7, 192)         768       \n",
            "_________________________________________________________________\n",
            "activation_6 (Activation)    (None, 7, 7, 192)         0         \n",
            "_________________________________________________________________\n",
            "conv2d_7 (Conv2D)            (None, 7, 7, 192)         36864     \n",
            "_________________________________________________________________\n",
            "batch_normalization_7 (Batch (None, 7, 7, 192)         768       \n",
            "_________________________________________________________________\n",
            "activation_7 (Activation)    (None, 7, 7, 192)         0         \n",
            "_________________________________________________________________\n",
            "conv2d_8 (Conv2D)            (None, 7, 7, 192)         36864     \n",
            "_________________________________________________________________\n",
            "batch_normalization_8 (Batch (None, 7, 7, 192)         768       \n",
            "_________________________________________________________________\n",
            "activation_8 (Activation)    (None, 7, 7, 192)         0         \n",
            "_________________________________________________________________\n",
            "global_average_pooling2d (Gl (None, 192)               0         \n",
            "_________________________________________________________________\n",
            "dense (Dense)                (None, 4)                 772       \n",
            "_________________________________________________________________\n",
            "activation_9 (Activation)    (None, 4)                 0         \n",
            "=================================================================\n",
            "Total params: 998,084\n",
            "Trainable params: 407,428\n",
            "Non-trainable params: 590,656\n",
            "_________________________________________________________________\n"
          ],
          "name": "stdout"
        }
      ]
    },
    {
      "cell_type": "markdown",
      "metadata": {
        "id": "jQ0KgTFUU6LE"
      },
      "source": [
        "ON choisit la sortie de la 4 ème dernière couche en partant de la dernière couche.\n",
        "\n",
        "Cette couche corresponde à la dernière couche avant les couches de classification. Les sorties de cette couche sont les caractéristiques de l'image.\n",
        "\n",
        "Ensuite le Global average pooling nous permet pour récupérer les poids des couches gélées.\n",
        "\n",
        "Puis on on ajoute une couche Dense(10, activation=\"softmax\") pour la prédiction de nos 10 classes (0,1,...,9)\n"
      ]
    },
    {
      "cell_type": "code",
      "metadata": {
        "id": "zXzprLs1xejY"
      },
      "source": [
        "X= model_frozen.layers[-4].output\n",
        "InputMod = tf.keras.Input(shape=(28, 28, 1))\n",
        "globalAv = GlobalAveragePooling2D()(X)\n",
        "predictions = Dense(num_classes2, activation=\"softmax\")(globalAv)\n",
        "model_final = tf.keras.Model(model_frozen.input,predictions)"
      ],
      "execution_count": null,
      "outputs": []
    },
    {
      "cell_type": "markdown",
      "metadata": {
        "id": "6z4In0VuV6mK"
      },
      "source": [
        "Optimizer du modèle final"
      ]
    },
    {
      "cell_type": "code",
      "metadata": {
        "id": "C5yyQblD6Mfh"
      },
      "source": [
        "from keras.optimizers import Adam\n",
        "opt2 = SGD(learning_rate=0.1, momentum=0.9,  nesterov=True)\n",
        "\n",
        "epochs = 50\n",
        "learning_rate = 0.0005\n",
        "decay_rate = learning_rate/epochs\n",
        "\n",
        "opt2 = Adam(lr=learning_rate, beta_1=0.9, beta_2=0.999, epsilon=None, decay=decay_rate, amsgrad=False)"
      ],
      "execution_count": null,
      "outputs": []
    },
    {
      "cell_type": "code",
      "metadata": {
        "id": "kcDZhT0F1WHO"
      },
      "source": [
        "model_final.compile(loss='categorical_crossentropy', optimizer=opt2, metrics=[\"accuracy\"])"
      ],
      "execution_count": null,
      "outputs": []
    },
    {
      "cell_type": "markdown",
      "metadata": {
        "id": "5Om-9LsqWFBT"
      },
      "source": [
        "On normalise les données train et on fait une copie des données y originales"
      ]
    },
    {
      "cell_type": "code",
      "metadata": {
        "id": "0an7u2Y6d7Oo"
      },
      "source": [
        "x_train100_2 = x_train100.astype('float32') \n",
        "x_train100_2 /= 255\n",
        "x_train100_2 = x_train100_2.reshape(-1, 28,28,1)\n",
        "\n",
        "y_train100_before = y_train100\n"
      ],
      "execution_count": null,
      "outputs": []
    },
    {
      "cell_type": "markdown",
      "metadata": {
        "id": "qzJep0F9WNaT"
      },
      "source": [
        "On transforme en categorial y_train100"
      ]
    },
    {
      "cell_type": "code",
      "metadata": {
        "id": "f49yNscreuZB"
      },
      "source": [
        "y_train100_2 = to_categorical(y_train100, num_classes2)"
      ],
      "execution_count": null,
      "outputs": []
    },
    {
      "cell_type": "markdown",
      "metadata": {
        "id": "Y3EB_AiHWVfW"
      },
      "source": [
        "On fit le modèle final sur les 100 données."
      ]
    },
    {
      "cell_type": "code",
      "metadata": {
        "colab": {
          "base_uri": "https://localhost:8080/"
        },
        "id": "Hx52L32zdKsP",
        "outputId": "4350611a-2e9d-4381-e17c-9a32ae960aeb"
      },
      "source": [
        "hist2 = model_final.fit(x_train100_2, y_train100_2, \n",
        "            batch_size = 10,\n",
        "            epochs=20,\n",
        "            shuffle=True,                       # verbosité\n",
        "            verbose = 1,\n",
        "            )"
      ],
      "execution_count": null,
      "outputs": [
        {
          "output_type": "stream",
          "text": [
            "Epoch 1/20\n",
            "10/10 [==============================] - 1s 5ms/step - loss: 2.5092 - accuracy: 0.1375\n",
            "Epoch 2/20\n",
            "10/10 [==============================] - 0s 5ms/step - loss: 2.0893 - accuracy: 0.2960\n",
            "Epoch 3/20\n",
            "10/10 [==============================] - 0s 4ms/step - loss: 1.9159 - accuracy: 0.5618\n",
            "Epoch 4/20\n",
            "10/10 [==============================] - 0s 5ms/step - loss: 1.6873 - accuracy: 0.7958\n",
            "Epoch 5/20\n",
            "10/10 [==============================] - 0s 4ms/step - loss: 1.4646 - accuracy: 0.8253\n",
            "Epoch 6/20\n",
            "10/10 [==============================] - 0s 4ms/step - loss: 1.3134 - accuracy: 0.8300\n",
            "Epoch 7/20\n",
            "10/10 [==============================] - 0s 4ms/step - loss: 1.0714 - accuracy: 0.9239\n",
            "Epoch 8/20\n",
            "10/10 [==============================] - 0s 4ms/step - loss: 0.9007 - accuracy: 0.9223\n",
            "Epoch 9/20\n",
            "10/10 [==============================] - 0s 4ms/step - loss: 0.7300 - accuracy: 0.8934\n",
            "Epoch 10/20\n",
            "10/10 [==============================] - 0s 3ms/step - loss: 0.5730 - accuracy: 0.9717\n",
            "Epoch 11/20\n",
            "10/10 [==============================] - 0s 3ms/step - loss: 0.5484 - accuracy: 0.9292\n",
            "Epoch 12/20\n",
            "10/10 [==============================] - 0s 3ms/step - loss: 0.4267 - accuracy: 0.9677\n",
            "Epoch 13/20\n",
            "10/10 [==============================] - 0s 4ms/step - loss: 0.2790 - accuracy: 0.9908\n",
            "Epoch 14/20\n",
            "10/10 [==============================] - 0s 3ms/step - loss: 0.2999 - accuracy: 0.9586\n",
            "Epoch 15/20\n",
            "10/10 [==============================] - 0s 3ms/step - loss: 0.2369 - accuracy: 1.0000\n",
            "Epoch 16/20\n",
            "10/10 [==============================] - 0s 3ms/step - loss: 0.1959 - accuracy: 0.9960\n",
            "Epoch 17/20\n",
            "10/10 [==============================] - 0s 3ms/step - loss: 0.1814 - accuracy: 0.9725\n",
            "Epoch 18/20\n",
            "10/10 [==============================] - 0s 3ms/step - loss: 0.1514 - accuracy: 1.0000\n",
            "Epoch 19/20\n",
            "10/10 [==============================] - 0s 4ms/step - loss: 0.1400 - accuracy: 1.0000\n",
            "Epoch 20/20\n",
            "10/10 [==============================] - 0s 3ms/step - loss: 0.1127 - accuracy: 1.0000\n"
          ],
          "name": "stdout"
        }
      ]
    },
    {
      "cell_type": "markdown",
      "metadata": {
        "id": "Vczxum8XWjf8"
      },
      "source": [
        "On trace les courbes d'apprentissage et de fonction de perte"
      ]
    },
    {
      "cell_type": "code",
      "metadata": {
        "colab": {
          "base_uri": "https://localhost:8080/",
          "height": 313
        },
        "id": "09cL7C3dd32R",
        "outputId": "19c6785c-8277-45d8-e84a-941d36c30043"
      },
      "source": [
        "plt.plot(hist2.history['accuracy'], label='training set',marker='o', linestyle='solid',linewidth=1, markersize=6)\n",
        "# plt.plot(hist2.history['val_accuracy'], label='validation set',marker='o', linestyle='solid',linewidth=1, markersize=6)\n",
        "plt.title(\"CNN-model accuracy\")\n",
        "plt.xlabel('#Epochs')\n",
        "plt.ylabel('Acuracy')\n",
        "plt.legend(bbox_to_anchor=( 1., 1.))"
      ],
      "execution_count": null,
      "outputs": [
        {
          "output_type": "execute_result",
          "data": {
            "text/plain": [
              "<matplotlib.legend.Legend at 0x7f7dc6eb2a20>"
            ]
          },
          "metadata": {
            "tags": []
          },
          "execution_count": 66
        },
        {
          "output_type": "display_data",
          "data": {
            "image/png": "[encoded data removed]",
            "text/plain": [
              "<Figure size 432x288 with 1 Axes>"
            ]
          },
          "metadata": {
            "tags": [],
            "needs_background": "light"
          }
        }
      ]
    },
    {
      "cell_type": "code",
      "metadata": {
        "colab": {
          "base_uri": "https://localhost:8080/",
          "height": 313
        },
        "id": "wK3wwYrNd32S",
        "outputId": "09b6440a-d5cb-4dea-f7bd-dca9d446598c"
      },
      "source": [
        "plt.plot(hist2.history['loss'], label='training set',marker='o', linestyle='solid',linewidth=1, markersize=6)\n",
        "# plt.plot(hist2.history['val_loss'], label='validation set',marker='o', linestyle='solid',linewidth=1, markersize=6)\n",
        "plt.title(\"CNN-model loss\")\n",
        "plt.xlabel('#Epochs')\n",
        "plt.ylabel('Loss')\n",
        "plt.legend(bbox_to_anchor=( 1., 1.))"
      ],
      "execution_count": null,
      "outputs": [
        {
          "output_type": "execute_result",
          "data": {
            "text/plain": [
              "<matplotlib.legend.Legend at 0x7f7dc6e46c50>"
            ]
          },
          "metadata": {
            "tags": []
          },
          "execution_count": 67
        },
        {
          "output_type": "display_data",
          "data": {
            "image/png": "[encoded data removed]",
            "text/plain": [
              "<Figure size 432x288 with 1 Axes>"
            ]
          },
          "metadata": {
            "tags": [],
            "needs_background": "light"
          }
        }
      ]
    },
    {
      "cell_type": "code",
      "metadata": {
        "id": "XFmRfvZ_d32T"
      },
      "source": [
        "y_pred = model_final.predict(x_train100_2)\n",
        "y_pred = np.argmax(y_pred, axis=1)\n",
        "\n"
      ],
      "execution_count": null,
      "outputs": []
    },
    {
      "cell_type": "code",
      "metadata": {
        "id": "z2CGsmc81Y3A"
      },
      "source": [
        "LABELS2 = {\n",
        "    0 : \"0\", \n",
        "    1 : \"1\", \n",
        "    2 : \"2\", \n",
        "    3 : \"3\", \n",
        "    4 : \"4\",           \n",
        "    5 : \"5\", \n",
        "    6 : \"6\",\n",
        "    7 : \"7\", \n",
        "    8 : \"8\",\n",
        "    9 : \"9\"\n",
        "}"
      ],
      "execution_count": null,
      "outputs": []
    },
    {
      "cell_type": "markdown",
      "metadata": {
        "id": "ahRUIALhW_xY"
      },
      "source": [
        "# On fait le test sur des données train 100"
      ]
    },
    {
      "cell_type": "code",
      "metadata": {
        "id": "i0udOLYAd32T"
      },
      "source": [
        "y_true = y_train100_before.reshape(y_pred.shape)\n"
      ],
      "execution_count": null,
      "outputs": []
    },
    {
      "cell_type": "markdown",
      "metadata": {
        "id": "UGEQEGcY4ShC"
      },
      "source": [
        "### Accuracy"
      ]
    },
    {
      "cell_type": "code",
      "metadata": {
        "colab": {
          "base_uri": "https://localhost:8080/"
        },
        "id": "SYQEVwRDd32U",
        "outputId": "3e237682-2eea-4218-f176-50ea8936b63e"
      },
      "source": [
        "from sklearn.metrics import accuracy_score\n",
        "accuracy_score(y_true=y_true,y_pred=y_pred)"
      ],
      "execution_count": null,
      "outputs": [
        {
          "output_type": "execute_result",
          "data": {
            "text/plain": [
              "0.99"
            ]
          },
          "metadata": {
            "tags": []
          },
          "execution_count": 73
        }
      ]
    },
    {
      "cell_type": "markdown",
      "metadata": {
        "id": "N46geLhG2HcG"
      },
      "source": [
        "# On fait le test sur les données test"
      ]
    },
    {
      "cell_type": "code",
      "metadata": {
        "id": "buzCZrf-g7_G"
      },
      "source": [
        "X_test = X_test_Original.astype('float32') \n",
        "X_test /= 255\n",
        "X_test = X_test.reshape(-1, 28,28,1)\n"
      ],
      "execution_count": null,
      "outputs": []
    },
    {
      "cell_type": "markdown",
      "metadata": {
        "id": "22P_Q9Zv30da"
      },
      "source": [
        "## Accuracy sur les données test"
      ]
    },
    {
      "cell_type": "code",
      "metadata": {
        "id": "JzoAQFMsAMOE"
      },
      "source": [
        "y_pred3 = model_final.predict(X_test)\n",
        "y_pred3 = np.argmax(y_pred3, axis=1)\n",
        "\n"
      ],
      "execution_count": null,
      "outputs": []
    },
    {
      "cell_type": "code",
      "metadata": {
        "id": "jA4SIxEVAMOT"
      },
      "source": [
        "y_true3 = Y_test_Original.reshape(y_pred3.shape)"
      ],
      "execution_count": null,
      "outputs": []
    },
    {
      "cell_type": "code",
      "metadata": {
        "colab": {
          "base_uri": "https://localhost:8080/"
        },
        "id": "ytvZo6QiAMOU",
        "outputId": "f363b569-98b7-4c16-d0b8-0566b4c78126"
      },
      "source": [
        "accuracy_score(y_true=y_true3,y_pred=y_pred3)"
      ],
      "execution_count": null,
      "outputs": [
        {
          "output_type": "execute_result",
          "data": {
            "text/plain": [
              "0.8787"
            ]
          },
          "metadata": {
            "tags": []
          },
          "execution_count": 77
        }
      ]
    },
    {
      "cell_type": "code",
      "metadata": {
        "id": "5ZfjoN9X3x8D"
      },
      "source": [
        "y_test = to_categorical(Y_test_Original, num_classes2)"
      ],
      "execution_count": null,
      "outputs": []
    },
    {
      "cell_type": "code",
      "metadata": {
        "colab": {
          "base_uri": "https://localhost:8080/"
        },
        "id": "VXIidck2_aP7",
        "outputId": "de03833a-6a70-402d-f3f8-03af7c1ce8e9"
      },
      "source": [
        "scores = model_final.evaluate(X_test, y_test, batch_size=128)"
      ],
      "execution_count": null,
      "outputs": [
        {
          "output_type": "stream",
          "text": [
            "79/79 [==============================] - 1s 13ms/step - loss: 0.6069 - accuracy: 0.8787\n"
          ],
          "name": "stdout"
        }
      ]
    },
    {
      "cell_type": "code",
      "metadata": {
        "colab": {
          "base_uri": "https://localhost:8080/"
        },
        "id": "KEOKtBHp_aP_",
        "outputId": "c53e8d26-d3e4-4e4c-f350-dc52ce0974c1"
      },
      "source": [
        "scores[1]"
      ],
      "execution_count": null,
      "outputs": [
        {
          "output_type": "execute_result",
          "data": {
            "text/plain": [
              "0.8787000179290771"
            ]
          },
          "metadata": {
            "tags": []
          },
          "execution_count": 80
        }
      ]
    },
    {
      "cell_type": "markdown",
      "metadata": {
        "id": "eroe0riXEVzJ"
      },
      "source": [
        "# Modèle supervisé"
      ]
    },
    {
      "cell_type": "markdown",
      "metadata": {
        "id": "RZuIoWjYvGIB"
      },
      "source": [
        "On crée ici un modèle avec la même architecture que notre modèle finale.\n",
        "\n",
        "Mais cette fois on n'appliquera pas de transformations géométriques pour essayer de récupérer les caractéristiques de l'image.\n",
        "\n",
        "Le but est de comparer ce modèle à notre modèle semi-supervisé"
      ]
    },
    {
      "cell_type": "code",
      "metadata": {
        "id": "XUn9-loRHp99"
      },
      "source": [
        "clear_session()"
      ],
      "execution_count": 13,
      "outputs": []
    },
    {
      "cell_type": "code",
      "metadata": {
        "id": "g_fkYRmVEX9W"
      },
      "source": [
        "\n",
        "baseline = Sequential()\n",
        "\n",
        "# Convolution\n",
        "\n",
        "#Block 1\n",
        "\n",
        "baseline.add(Conv2D(filters = 192, kernel_size= 5, use_bias=False, padding='same', strides=(1, 1),input_shape=(28, 28,1)))\n",
        "baseline.add(BatchNormalization())\n",
        "baseline.add(Activation('relu'))\n",
        "\n",
        "baseline.add(Conv2D(filters = 160, kernel_size= 1, use_bias=False, padding='same', strides=(1, 1)))\n",
        "baseline.add(BatchNormalization())\n",
        "baseline.add(Activation('relu'))\n",
        "# baseline.add(BatchNormalization())\n",
        "\n",
        "baseline.add(Conv2D(filters = 96, kernel_size= 1, use_bias=False, padding='same', strides=(1, 1)))\n",
        "baseline.add(BatchNormalization())\n",
        "baseline.add(Activation('relu'))\n",
        "# baseline.add(BatchNormalization())\n",
        "\n",
        "baseline.add(MaxPooling2D(pool_size = 3, padding='same', strides=(2,2)))\n",
        "\n",
        "# Bloc 2\n",
        "\n",
        "baseline.add(Conv2D(filters = 192, kernel_size= 5, use_bias=False, padding='same', strides=(1, 1)))\n",
        "baseline.add(BatchNormalization())\n",
        "baseline.add(Activation('relu'))\n",
        "# baseline.add(BatchNormalization())\n",
        "\n",
        "baseline.add(Conv2D(filters = 192, kernel_size= 1, use_bias=False, padding='same', strides=(1, 1)))\n",
        "baseline.add(BatchNormalization())\n",
        "baseline.add(Activation('relu'))\n",
        "# baseline.add(BatchNormalization())\n",
        "\n",
        "baseline.add(Conv2D(filters = 192, kernel_size= 1, use_bias=False, padding='same', strides=(1, 1)))\n",
        "baseline.add(BatchNormalization())\n",
        "baseline.add(Activation('relu'))\n",
        "# baseline.add(BatchNormalization())\n",
        "\n",
        "baseline.add(AveragePooling2D(pool_size = 3, padding='same', strides=(2,2)))\n",
        "# baseline.add(MaxPooling2D(pool_size = 3, strides=(2,2)))\n",
        "\n",
        "# Bloc 3\n",
        "\n",
        "baseline.add(Conv2D(filters = 192, kernel_size= 3, use_bias=False, padding='same', strides=(1, 1)))\n",
        "baseline.add(BatchNormalization())\n",
        "baseline.add(Activation('relu'))\n",
        "# baseline.add(BatchNormalization())\n",
        "\n",
        "baseline.add(Conv2D(filters = 192, kernel_size= 1, use_bias=False, padding='same', strides=(1, 1)))\n",
        "baseline.add(BatchNormalization())\n",
        "baseline.add(Activation('relu'))\n",
        "# baseline.add(BatchNormalization())\n",
        "\n",
        "baseline.add(Conv2D(filters = 192, kernel_size= 1, use_bias=False, padding='same', strides=(1, 1)))\n",
        "baseline.add(BatchNormalization())\n",
        "baseline.add(Activation('relu'))\n",
        "# baseline.add(BatchNormalization())\n",
        "\n",
        "baseline.add(GlobalAveragePooling2D())\n",
        "# baseline.add(Dropout(0.6))\n",
        "\n",
        "\n",
        "# baseline.add(Flatten())\n",
        "baseline.add(Dense(num_classes2))\n",
        "baseline.add(Activation('softmax'))"
      ],
      "execution_count": null,
      "outputs": []
    },
    {
      "cell_type": "code",
      "metadata": {
        "colab": {
          "base_uri": "https://localhost:8080/"
        },
        "id": "RWAb81OfFSEK",
        "outputId": "863ee486-5587-430c-bea0-78bfb729b926"
      },
      "source": [
        "baseline.summary()"
      ],
      "execution_count": null,
      "outputs": [
        {
          "output_type": "stream",
          "text": [
            "Model: \"sequential\"\n",
            "_________________________________________________________________\n",
            "Layer (type)                 Output Shape              Param #   \n",
            "=================================================================\n",
            "conv2d (Conv2D)              (None, 28, 28, 192)       4800      \n",
            "_________________________________________________________________\n",
            "batch_normalization (BatchNo (None, 28, 28, 192)       768       \n",
            "_________________________________________________________________\n",
            "activation (Activation)      (None, 28, 28, 192)       0         \n",
            "_________________________________________________________________\n",
            "conv2d_1 (Conv2D)            (None, 28, 28, 160)       30720     \n",
            "_________________________________________________________________\n",
            "batch_normalization_1 (Batch (None, 28, 28, 160)       640       \n",
            "_________________________________________________________________\n",
            "activation_1 (Activation)    (None, 28, 28, 160)       0         \n",
            "_________________________________________________________________\n",
            "conv2d_2 (Conv2D)            (None, 28, 28, 96)        15360     \n",
            "_________________________________________________________________\n",
            "batch_normalization_2 (Batch (None, 28, 28, 96)        384       \n",
            "_________________________________________________________________\n",
            "activation_2 (Activation)    (None, 28, 28, 96)        0         \n",
            "_________________________________________________________________\n",
            "max_pooling2d (MaxPooling2D) (None, 14, 14, 96)        0         \n",
            "_________________________________________________________________\n",
            "conv2d_3 (Conv2D)            (None, 14, 14, 192)       460800    \n",
            "_________________________________________________________________\n",
            "batch_normalization_3 (Batch (None, 14, 14, 192)       768       \n",
            "_________________________________________________________________\n",
            "activation_3 (Activation)    (None, 14, 14, 192)       0         \n",
            "_________________________________________________________________\n",
            "conv2d_4 (Conv2D)            (None, 14, 14, 192)       36864     \n",
            "_________________________________________________________________\n",
            "batch_normalization_4 (Batch (None, 14, 14, 192)       768       \n",
            "_________________________________________________________________\n",
            "activation_4 (Activation)    (None, 14, 14, 192)       0         \n",
            "_________________________________________________________________\n",
            "conv2d_5 (Conv2D)            (None, 14, 14, 192)       36864     \n",
            "_________________________________________________________________\n",
            "batch_normalization_5 (Batch (None, 14, 14, 192)       768       \n",
            "_________________________________________________________________\n",
            "activation_5 (Activation)    (None, 14, 14, 192)       0         \n",
            "_________________________________________________________________\n",
            "average_pooling2d (AveragePo (None, 7, 7, 192)         0         \n",
            "_________________________________________________________________\n",
            "conv2d_6 (Conv2D)            (None, 7, 7, 192)         331776    \n",
            "_________________________________________________________________\n",
            "batch_normalization_6 (Batch (None, 7, 7, 192)         768       \n",
            "_________________________________________________________________\n",
            "activation_6 (Activation)    (None, 7, 7, 192)         0         \n",
            "_________________________________________________________________\n",
            "conv2d_7 (Conv2D)            (None, 7, 7, 192)         36864     \n",
            "_________________________________________________________________\n",
            "batch_normalization_7 (Batch (None, 7, 7, 192)         768       \n",
            "_________________________________________________________________\n",
            "activation_7 (Activation)    (None, 7, 7, 192)         0         \n",
            "_________________________________________________________________\n",
            "conv2d_8 (Conv2D)            (None, 7, 7, 192)         36864     \n",
            "_________________________________________________________________\n",
            "batch_normalization_8 (Batch (None, 7, 7, 192)         768       \n",
            "_________________________________________________________________\n",
            "activation_8 (Activation)    (None, 7, 7, 192)         0         \n",
            "_________________________________________________________________\n",
            "global_average_pooling2d (Gl (None, 192)               0         \n",
            "_________________________________________________________________\n",
            "dense (Dense)                (None, 10)                1930      \n",
            "_________________________________________________________________\n",
            "activation_9 (Activation)    (None, 10)                0         \n",
            "=================================================================\n",
            "Total params: 999,242\n",
            "Trainable params: 996,042\n",
            "Non-trainable params: 3,200\n",
            "_________________________________________________________________\n"
          ],
          "name": "stdout"
        }
      ]
    },
    {
      "cell_type": "code",
      "metadata": {
        "id": "w0Tt2MzQG1ZW"
      },
      "source": [
        "baseline.compile(loss='categorical_crossentropy', optimizer=opt2, metrics=[\"accuracy\"])"
      ],
      "execution_count": null,
      "outputs": []
    },
    {
      "cell_type": "code",
      "metadata": {
        "colab": {
          "base_uri": "https://localhost:8080/"
        },
        "id": "lpb95ZySFSL-",
        "outputId": "6c658209-2379-4b4c-c4f4-1c3e2b8b9759"
      },
      "source": [
        "hist3 = baseline.fit(x_train100_2, y_train100_2, \n",
        "            batch_size=50,\n",
        "            epochs=10,\n",
        "            shuffle=True,                       # verbosité\n",
        "            verbose = 1,\n",
        "            )"
      ],
      "execution_count": null,
      "outputs": [
        {
          "output_type": "stream",
          "text": [
            "Epoch 1/10\n",
            "2/2 [==============================] - 1s 20ms/step - loss: 2.3433 - accuracy: 0.1333\n",
            "Epoch 2/10\n",
            "2/2 [==============================] - 0s 20ms/step - loss: 1.7073 - accuracy: 0.6000\n",
            "Epoch 3/10\n",
            "2/2 [==============================] - 0s 20ms/step - loss: 1.1556 - accuracy: 0.7867\n",
            "Epoch 4/10\n",
            "2/2 [==============================] - 0s 20ms/step - loss: 0.7823 - accuracy: 0.9400\n",
            "Epoch 5/10\n",
            "2/2 [==============================] - 0s 20ms/step - loss: 0.5264 - accuracy: 0.9667\n",
            "Epoch 6/10\n",
            "2/2 [==============================] - 0s 20ms/step - loss: 0.3241 - accuracy: 0.9867\n",
            "Epoch 7/10\n",
            "2/2 [==============================] - 0s 20ms/step - loss: 0.2074 - accuracy: 0.9867\n",
            "Epoch 8/10\n",
            "2/2 [==============================] - 0s 20ms/step - loss: 0.1382 - accuracy: 1.0000\n",
            "Epoch 9/10\n",
            "2/2 [==============================] - 0s 20ms/step - loss: 0.0882 - accuracy: 1.0000\n",
            "Epoch 10/10\n",
            "2/2 [==============================] - 0s 21ms/step - loss: 0.0569 - accuracy: 1.0000\n"
          ],
          "name": "stdout"
        }
      ]
    },
    {
      "cell_type": "code",
      "metadata": {
        "id": "cznYbTrkFvVa"
      },
      "source": [
        ""
      ],
      "execution_count": null,
      "outputs": []
    },
    {
      "cell_type": "code",
      "metadata": {
        "colab": {
          "base_uri": "https://localhost:8080/",
          "height": 313
        },
        "id": "SxMb8NsiFvpw",
        "outputId": "6e34749b-4fb7-4856-fb39-8209b2b62c94"
      },
      "source": [
        "plt.plot(hist3.history['accuracy'], label='training set',marker='o', linestyle='solid',linewidth=1, markersize=6)\n",
        "# plt.plot(hist2.history['val_accuracy'], label='validation set',marker='o', linestyle='solid',linewidth=1, markersize=6)\n",
        "plt.title(\"CNN-model accuracy\")\n",
        "plt.xlabel('#Epochs')\n",
        "plt.ylabel('Acuracy')\n",
        "plt.legend(bbox_to_anchor=( 1., 1.))"
      ],
      "execution_count": null,
      "outputs": [
        {
          "output_type": "execute_result",
          "data": {
            "text/plain": [
              "<matplotlib.legend.Legend at 0x7f7dce0a3780>"
            ]
          },
          "metadata": {
            "tags": []
          },
          "execution_count": 86
        },
        {
          "output_type": "display_data",
          "data": {
            "image/png": "[encoded data removed]",
            "text/plain": [
              "<Figure size 432x288 with 1 Axes>"
            ]
          },
          "metadata": {
            "tags": [],
            "needs_background": "light"
          }
        }
      ]
    },
    {
      "cell_type": "code",
      "metadata": {
        "colab": {
          "base_uri": "https://localhost:8080/",
          "height": 313
        },
        "id": "BHSt_he7Fvp0",
        "outputId": "9e594968-1c9c-4ad4-a0e7-02451b96ef91"
      },
      "source": [
        "plt.plot(hist3.history['loss'], label='training set',marker='o', linestyle='solid',linewidth=1, markersize=6)\n",
        "# plt.plot(hist2.history['val_loss'], label='validation set',marker='o', linestyle='solid',linewidth=1, markersize=6)\n",
        "plt.title(\"CNN-model loss\")\n",
        "plt.xlabel('#Epochs')\n",
        "plt.ylabel('Loss')\n",
        "plt.legend(bbox_to_anchor=( 1., 1.))"
      ],
      "execution_count": null,
      "outputs": [
        {
          "output_type": "execute_result",
          "data": {
            "text/plain": [
              "<matplotlib.legend.Legend at 0x7f7dce2fe208>"
            ]
          },
          "metadata": {
            "tags": []
          },
          "execution_count": 87
        },
        {
          "output_type": "display_data",
          "data": {
            "image/png": "[encoded data removed]",
            "text/plain": [
              "<Figure size 432x288 with 1 Axes>"
            ]
          },
          "metadata": {
            "tags": [],
            "needs_background": "light"
          }
        }
      ]
    },
    {
      "cell_type": "markdown",
      "metadata": {
        "id": "9JvGlJWsF3Vc"
      },
      "source": [
        "#### Accuracy sur les données test"
      ]
    },
    {
      "cell_type": "code",
      "metadata": {
        "id": "GklQW_OWRjS7"
      },
      "source": [
        "y_pred5 = baseline.predict(X_test)\n",
        "y_pred5 = np.argmax(y_pred5, axis=1)\n"
      ],
      "execution_count": null,
      "outputs": []
    },
    {
      "cell_type": "code",
      "metadata": {
        "colab": {
          "base_uri": "https://localhost:8080/"
        },
        "id": "HRvQJwxKRjS8",
        "outputId": "0fa9c95d-bfdf-4b74-8dff-9c9770052562"
      },
      "source": [
        "y_true5 = Y_test_Original.reshape(y_pred5.shape)"
      ],
      "execution_count": null,
      "outputs": [
        {
          "output_type": "execute_result",
          "data": {
            "text/plain": [
              "array([7, 2, 1, ..., 4, 5, 6], dtype=uint8)"
            ]
          },
          "metadata": {
            "tags": []
          },
          "execution_count": 118
        }
      ]
    },
    {
      "cell_type": "code",
      "metadata": {
        "colab": {
          "base_uri": "https://localhost:8080/"
        },
        "id": "Zt-NowAcRjS9",
        "outputId": "c88cf7ec-3ed5-457b-8be2-31cdbc7bad0e"
      },
      "source": [
        "accuracy_score(y_true=y_true5,y_pred=y_pred5)"
      ],
      "execution_count": null,
      "outputs": [
        {
          "output_type": "execute_result",
          "data": {
            "text/plain": [
              "0.1137"
            ]
          },
          "metadata": {
            "tags": []
          },
          "execution_count": 119
        }
      ]
    },
    {
      "cell_type": "markdown",
      "metadata": {
        "id": "y5K1B5Ptv6W4"
      },
      "source": [
        "On remarque un overfitting du modèle pendant l'apprentissage mais le test sur des données test donne de mauvais résultats"
      ]
    },
    {
      "cell_type": "code",
      "metadata": {
        "colab": {
          "base_uri": "https://localhost:8080/"
        },
        "id": "JrdiuuEsRjS-",
        "outputId": "ddcf8a57-a671-476e-8d68-c86fa499ab9e"
      },
      "source": [
        "scores = baseline.evaluate(X_test, y_test, batch_size=128)"
      ],
      "execution_count": null,
      "outputs": [
        {
          "output_type": "stream",
          "text": [
            "79/79 [==============================] - 1s 13ms/step - loss: 2.3122 - accuracy: 0.1137\n"
          ],
          "name": "stdout"
        }
      ]
    },
    {
      "cell_type": "code",
      "metadata": {
        "colab": {
          "base_uri": "https://localhost:8080/"
        },
        "id": "V9G-04a6RjS_",
        "outputId": "f859472c-5297-4273-df2b-7b61b755ca61"
      },
      "source": [
        "scores"
      ],
      "execution_count": null,
      "outputs": [
        {
          "output_type": "execute_result",
          "data": {
            "text/plain": [
              "[2.312241315841675, 0.1137000024318695]"
            ]
          },
          "metadata": {
            "tags": []
          },
          "execution_count": 122
        }
      ]
    },
    {
      "cell_type": "code",
      "metadata": {
        "id": "wnI1MuWIR89M"
      },
      "source": [
        ""
      ],
      "execution_count": null,
      "outputs": []
    }
  ]
}